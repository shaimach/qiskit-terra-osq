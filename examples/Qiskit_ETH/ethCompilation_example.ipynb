{
 "cells": [
  {
   "cell_type": "code",
   "execution_count": 348,
   "metadata": {},
   "outputs": [],
   "source": [
    "import qiskit\n",
    "from qiskit.providers.aer import QasmSimulator\n",
    "from qiskit import execute, QuantumCircuit, QuantumRegister, ClassicalRegister\n",
    "from scipy.optimize import minimize\n",
    "from qiskit import BasicAer\n",
    "from qiskit.tools.visualization import plot_histogram, plot_gate_map, plot_circuit_layout\n",
    "from qiskit.tools.monitor import job_monitor\n",
    "from qiskit.providers.ibmq import least_busy\n",
    "from qiskit.compiler import transpile\n",
    "from qiskit.transpiler import PassManager"
   ]
  },
  {
   "cell_type": "code",
   "execution_count": 349,
   "metadata": {},
   "outputs": [],
   "source": [
    "#configure backend from the to eth architecture\n",
    "# important to run the current script and see how it works please ensure that you have installed qiskit-terra-installed\n",
    "configuration = {\n",
    "    'backend_name': 'qasm_simulator',\n",
    "    'description': 'OpenSuperQ ETH 7 qubit chip, rev. 1, 12_15702',\n",
    "    'backend_version': '0.1.0',\n",
    "    'url': 'http://opensuperq.eu/',\n",
    "    'sample_name': 'QUDEV_M_12_15702',\n",
    "    'n_qubits': 7,\n",
    "    'basis_gates': ['cz', 'rz', 'rx_pi/2'],\n",
    "    'coupling_map': [[0, 2], [0, 3], [1, 3], [1, 4], [2, 5], [3, 5], [3, 6], [4, 6],[2, 0], [3, 0], [3, 1], [4, 1], [5, 2], [5, 3], [6, 3], [6, 4]],\n",
    "    # Reduced qubit numbers by 1 compared to 20190823_OSQ_Waypoint1_experimental_parameters.pdf\n",
    "    'simulator': True,\n",
    "    'local': True,\n",
    "    'open_pulse': False,\n",
    "    'conditional': False,\n",
    "    'n_registers': 1,  # Really 0, but QISKIT would not allow it, even if 'conditional' is False\n",
    "    'max_shots': 10000000,\n",
    "    'memory': True,\n",
    "    'credits_required': False}\n",
    "\n",
    "gates =[\n",
    "    {'name': 'cz',\n",
    "     'parameters': [],\n",
    "     'coupling_map':[[0, 2], [0, 3], [1, 3], [1, 4], [2, 5], [3, 5], [3, 6], [4, 6],[2, 0], [3, 0], [3, 1], [4, 1], [5, 2], [5, 3], [6, 3], [6, 4]],\n",
    "     'qasm_def': 'gate cZ q1,q2 { CZ q1,q2; }'},\n",
    "\n",
    "    {'name': 'rx_pi/2',\n",
    "     'parameters': ['matrix'],\n",
    "     'coupling_map': [[0], [1], [2], [3], [4], [5], [6]],\n",
    "     'qasm_def': 'unitary(matrix) q1'},\n",
    "\n",
    "    {'name': 'rz',\n",
    "     'parameters': ['matrix'],\n",
    "     'coupling_map': [[0], [1], [2], [3], [4], [5], [6]],\n",
    "     'qasm_def': 'unitary(matrix) q1'},\n",
    "\n",
    "    {'name': 'u3_eth',\n",
    "     'parameters': ['matrix'],\n",
    "     'coupling_map': [[0], [1], [2], [3], [4], [5], [6]],\n",
    "     'qasm_def': 'unitary(matrix) q1'}\n",
    "]\n",
    "\n",
    "\n",
    "map = [[0, 2], [0, 3], [1, 3], [1, 4], [2, 5], [3, 5], [3, 6], [4, 6],[2, 0], [3, 0], [3, 1], [4, 1], [5, 2], [5, 3], [6, 3], [6, 4]]"
   ]
  },
  {
   "cell_type": "code",
   "execution_count": 350,
   "metadata": {},
   "outputs": [],
   "source": [
    "#choose qasm backend first\n",
    "backend = QasmSimulator()"
   ]
  },
  {
   "cell_type": "code",
   "execution_count": 351,
   "metadata": {},
   "outputs": [
    {
     "name": "stdout",
     "output_type": "stream",
     "text": [
      "                  ┌───┐┌─┐      \n",
      "q48_0: |0>────────┤ H ├┤M├──────\n",
      "               ┌─┐└───┘└╥┘      \n",
      "q48_1: |0>─────┤M├──────╫───────\n",
      "               └╥┘      ║ ┌─┐   \n",
      "q48_2: |0>──■───╫───────╫─┤M├───\n",
      "          ┌─┴─┐ ║       ║ └╥┘┌─┐\n",
      "q48_3: |0>┤ X ├─╫───────╫──╫─┤M├\n",
      "          └───┘ ║       ║  ║ └╥┘\n",
      " c48_0: 0 ══════╬═══════╩══╬══╬═\n",
      "                ║          ║  ║ \n",
      " c48_1: 0 ══════╩══════════╬══╬═\n",
      "                           ║  ║ \n",
      " c48_2: 0 ═════════════════╩══╬═\n",
      "                              ║ \n",
      " c48_3: 0 ════════════════════╩═\n",
      "                                \n"
     ]
    }
   ],
   "source": [
    "#construct example circuit \n",
    "q=QuantumRegister(4)\n",
    "c=ClassicalRegister(4)\n",
    "qc=QuantumCircuit(q,c)\n",
    "qc.h(q[0])\n",
    "qc.cx(q[2],q[3])\n",
    "qc.measure(q, c)\n",
    "print(qc)\n"
   ]
  },
  {
   "cell_type": "code",
   "execution_count": 352,
   "metadata": {
    "scrolled": true
   },
   "outputs": [
    {
     "name": "stdout",
     "output_type": "stream",
     "text": [
      "             ┌────────────┐┌──────────┐┌────────────┐   ┌─┐                 »\n",
      "q48_0: |0>───┤ Rx_pi/2(1) ├┤ Rz(pi/2) ├┤ Rx_pi/2(1) ├───┤M├─────────────────»\n",
      "          ┌─┐└────────────┘└──────────┘└────────────┘   └╥┘                 »\n",
      "q48_1: |0>┤M├────────────────────────────────────────────╫──────────────────»\n",
      "          └╥┘                                            ║ ┌─┐              »\n",
      "q48_2: |0>─╫──────────────────────────────────────────■──╫─┤M├──────────────»\n",
      "           ║ ┌────────────┐ ┌────────┐ ┌────────────┐ │  ║ └╥┘┌────────────┐»\n",
      "q48_3: |0>─╫─┤ Rx_pi/2(1) ├─┤ U1(pi) ├─┤ Rx_pi/2(1) ├─■──╫──╫─┤ Rx_pi/2(1) ├»\n",
      "           ║ └────────────┘ └────────┘ └────────────┘    ║  ║ └────────────┘»\n",
      " c48_0: 0 ═╬═════════════════════════════════════════════╩══╬═══════════════»\n",
      "           ║                                                ║               »\n",
      " c48_1: 0 ═╩════════════════════════════════════════════════╬═══════════════»\n",
      "                                                            ║               »\n",
      " c48_2: 0 ══════════════════════════════════════════════════╩═══════════════»\n",
      "                                                                            »\n",
      " c48_3: 0 ══════════════════════════════════════════════════════════════════»\n",
      "                                                                            »\n",
      "«                        \n",
      "«q48_0: ─────────────────\n",
      "«                        \n",
      "«q48_1: ─────────────────\n",
      "«                        \n",
      "«q48_2: ─────────────────\n",
      "«       ┌────────────┐┌─┐\n",
      "«q48_3: ┤ Rx_pi/2(1) ├┤M├\n",
      "«       └────────────┘└╥┘\n",
      "«c48_0: ═══════════════╬═\n",
      "«                      ║ \n",
      "«c48_1: ═══════════════╬═\n",
      "«                      ║ \n",
      "«c48_2: ═══════════════╬═\n",
      "«                      ║ \n",
      "«c48_3: ═══════════════╩═\n",
      "«                        \n"
     ]
    }
   ],
   "source": [
    "#configure the backend, choose eth basis native gates\n",
    "backend._configuration.basis_gates = ['cz','rx_pi/2','rz']\n",
    "transpiledCircuit = transpile(qc, backend=backend, optimization_level=2)\n",
    "\n",
    "# print the transpiled circuit with respect to eth gates(not included conetivity graph) and optimization level-1\n",
    "# o-level one will just unroll the circuit to the desired basis gates and taking care of coupling\n",
    "# no single qubit optimization\n",
    "print(transpiledCircuit)"
   ]
  },
  {
   "cell_type": "code",
   "execution_count": 353,
   "metadata": {
    "scrolled": true
   },
   "outputs": [
    {
     "name": "stdout",
     "output_type": "stream",
     "text": [
      "             ┌────────────┐┌──────────┐┌────────────┐   ┌─┐                 »\n",
      "q48_0: |0>───┤ Rx_pi/2(1) ├┤ Rz(pi/2) ├┤ Rx_pi/2(1) ├───┤M├─────────────────»\n",
      "          ┌─┐└────────────┘└──────────┘└────────────┘   └╥┘                 »\n",
      "q48_1: |0>┤M├────────────────────────────────────────────╫──────────────────»\n",
      "          └╥┘                                            ║ ┌─┐              »\n",
      "q48_2: |0>─╫──────────────────────────────────────────■──╫─┤M├──────────────»\n",
      "           ║ ┌────────────┐ ┌────────┐ ┌────────────┐ │  ║ └╥┘┌────────────┐»\n",
      "q48_3: |0>─╫─┤ Rx_pi/2(1) ├─┤ U1(pi) ├─┤ Rx_pi/2(1) ├─■──╫──╫─┤ Rx_pi/2(1) ├»\n",
      "           ║ └────────────┘ └────────┘ └────────────┘    ║  ║ └────────────┘»\n",
      " c48_0: 0 ═╬═════════════════════════════════════════════╩══╬═══════════════»\n",
      "           ║                                                ║               »\n",
      " c48_1: 0 ═╩════════════════════════════════════════════════╬═══════════════»\n",
      "                                                            ║               »\n",
      " c48_2: 0 ══════════════════════════════════════════════════╩═══════════════»\n",
      "                                                                            »\n",
      " c48_3: 0 ══════════════════════════════════════════════════════════════════»\n",
      "                                                                            »\n",
      "«                        \n",
      "«q48_0: ─────────────────\n",
      "«                        \n",
      "«q48_1: ─────────────────\n",
      "«                        \n",
      "«q48_2: ─────────────────\n",
      "«       ┌────────────┐┌─┐\n",
      "«q48_3: ┤ Rx_pi/2(1) ├┤M├\n",
      "«       └────────────┘└╥┘\n",
      "«c48_0: ═══════════════╬═\n",
      "«                      ║ \n",
      "«c48_1: ═══════════════╬═\n",
      "«                      ║ \n",
      "«c48_2: ═══════════════╬═\n",
      "«                      ║ \n",
      "«c48_3: ═══════════════╩═\n",
      "«                        \n"
     ]
    }
   ],
   "source": [
    "#do the same transpiing as before, but with optimization level 3\n",
    "#problem of pass manager don't care about basis gates U1 is created\n",
    "transpiledCircuit = transpile(qc, backend=backend, optimization_level=2)\n",
    "print(transpiledCircuit)"
   ]
  },
  {
   "cell_type": "code",
   "execution_count": 354,
   "metadata": {},
   "outputs": [
    {
     "name": "stdout",
     "output_type": "stream",
     "text": [
      "             ┌────────────┐┌──────────┐┌────────────┐   ┌─┐                 »\n",
      "q48_0: |0>───┤ Rx_pi/2(1) ├┤ Rz(pi/2) ├┤ Rx_pi/2(1) ├───┤M├─────────────────»\n",
      "          ┌─┐└────────────┘└──────────┘└────────────┘   └╥┘                 »\n",
      "q48_1: |0>┤M├────────────────────────────────────────────╫──────────────────»\n",
      "          └╥┘                                            ║ ┌─┐              »\n",
      "q48_2: |0>─╫──────────────────────────────────────────■──╫─┤M├──────────────»\n",
      "           ║ ┌────────────┐┌──────────┐┌────────────┐ │  ║ └╥┘┌────────────┐»\n",
      "q48_3: |0>─╫─┤ Rx_pi/2(1) ├┤ Rz(pi/2) ├┤ Rx_pi/2(1) ├─■──╫──╫─┤ Rx_pi/2(1) ├»\n",
      "           ║ └────────────┘└──────────┘└────────────┘    ║  ║ └────────────┘»\n",
      " c48_0: 0 ═╬═════════════════════════════════════════════╩══╬═══════════════»\n",
      "           ║                                                ║               »\n",
      " c48_1: 0 ═╩════════════════════════════════════════════════╬═══════════════»\n",
      "                                                            ║               »\n",
      " c48_2: 0 ══════════════════════════════════════════════════╩═══════════════»\n",
      "                                                                            »\n",
      " c48_3: 0 ══════════════════════════════════════════════════════════════════»\n",
      "                                                                            »\n",
      "«                                    \n",
      "«q48_0: ─────────────────────────────\n",
      "«                                    \n",
      "«q48_1: ─────────────────────────────\n",
      "«                                    \n",
      "«q48_2: ─────────────────────────────\n",
      "«       ┌──────────┐┌────────────┐┌─┐\n",
      "«q48_3: ┤ Rz(pi/2) ├┤ Rx_pi/2(1) ├┤M├\n",
      "«       └──────────┘└────────────┘└╥┘\n",
      "«c48_0: ═══════════════════════════╬═\n",
      "«                                  ║ \n",
      "«c48_1: ═══════════════════════════╬═\n",
      "«                                  ║ \n",
      "«c48_2: ═══════════════════════════╬═\n",
      "«                                  ║ \n",
      "«c48_3: ═══════════════════════════╩═\n",
      "«                                    \n"
     ]
    }
   ],
   "source": [
    "#switch back to optimization level 1 and include coupling map\n",
    "backend.DEFAULT_CONFIGURATION = configuration\n",
    "transpiledCircuit = transpile(qc, backend=backend, optimization_level=1)\n",
    "print(transpiledCircuit)"
   ]
  },
  {
   "cell_type": "code",
   "execution_count": 355,
   "metadata": {},
   "outputs": [
    {
     "name": "stderr",
     "output_type": "stream",
     "text": [
      "qasm_simulator: simulation failed\n"
     ]
    }
   ],
   "source": [
    "# transpiler works but not the qasm simulator, its just working with native u1,u2,u3 gates\n",
    "job = execute(qc,backend=backend,shots=1)"
   ]
  },
  {
   "cell_type": "code",
   "execution_count": 356,
   "metadata": {},
   "outputs": [
    {
     "ename": "QiskitError",
     "evalue": "\"Cannot unroll the circuit to the given basis, ['cz', 'rx_pi/2', 'rz']. No rule to expand instruction u3.\"",
     "output_type": "error",
     "traceback": [
      "\u001b[0;31m---------------------------------------------------------------------------\u001b[0m",
      "\u001b[0;31mQiskitError\u001b[0m                               Traceback (most recent call last)",
      "\u001b[0;32m<ipython-input-356-cc9ee2a1eec2>\u001b[0m in \u001b[0;36m<module>\u001b[0;34m\u001b[0m\n\u001b[0;32m----> 1\u001b[0;31m \u001b[0mtranspiledCircuit\u001b[0m \u001b[0;34m=\u001b[0m \u001b[0mtranspile\u001b[0m\u001b[0;34m(\u001b[0m\u001b[0mqc\u001b[0m\u001b[0;34m,\u001b[0m \u001b[0mbackend\u001b[0m\u001b[0;34m=\u001b[0m\u001b[0mbackend\u001b[0m\u001b[0;34m,\u001b[0m \u001b[0moptimization_level\u001b[0m\u001b[0;34m=\u001b[0m\u001b[0;36m3\u001b[0m\u001b[0;34m)\u001b[0m\u001b[0;34m\u001b[0m\u001b[0;34m\u001b[0m\u001b[0m\n\u001b[0m",
      "\u001b[0;32m/usr/local/lib/python3.6/dist-packages/qiskit/compiler/transpile.py\u001b[0m in \u001b[0;36mtranspile\u001b[0;34m(circuits, backend, basis_gates, coupling_map, backend_properties, initial_layout, seed_transpiler, optimization_level, pass_manager, callback, output_name)\u001b[0m\n\u001b[1;32m    198\u001b[0m                                       'in the coupling_map')\n\u001b[1;32m    199\u001b[0m     \u001b[0;31m# Transpile circuits in parallel\u001b[0m\u001b[0;34m\u001b[0m\u001b[0;34m\u001b[0m\u001b[0;34m\u001b[0m\u001b[0m\n\u001b[0;32m--> 200\u001b[0;31m     \u001b[0mcircuits\u001b[0m \u001b[0;34m=\u001b[0m \u001b[0mparallel_map\u001b[0m\u001b[0;34m(\u001b[0m\u001b[0m_transpile_circuit\u001b[0m\u001b[0;34m,\u001b[0m \u001b[0mlist\u001b[0m\u001b[0;34m(\u001b[0m\u001b[0mzip\u001b[0m\u001b[0;34m(\u001b[0m\u001b[0mcircuits\u001b[0m\u001b[0;34m,\u001b[0m \u001b[0mtranspile_configs\u001b[0m\u001b[0;34m)\u001b[0m\u001b[0;34m)\u001b[0m\u001b[0;34m)\u001b[0m\u001b[0;34m\u001b[0m\u001b[0;34m\u001b[0m\u001b[0m\n\u001b[0m\u001b[1;32m    201\u001b[0m \u001b[0;34m\u001b[0m\u001b[0m\n\u001b[1;32m    202\u001b[0m     \u001b[0;32mif\u001b[0m \u001b[0mlen\u001b[0m\u001b[0;34m(\u001b[0m\u001b[0mcircuits\u001b[0m\u001b[0;34m)\u001b[0m \u001b[0;34m==\u001b[0m \u001b[0;36m1\u001b[0m\u001b[0;34m:\u001b[0m\u001b[0;34m\u001b[0m\u001b[0;34m\u001b[0m\u001b[0m\n",
      "\u001b[0;32m/usr/local/lib/python3.6/dist-packages/qiskit/tools/parallel.py\u001b[0m in \u001b[0;36mparallel_map\u001b[0;34m(task, values, task_args, task_kwargs, num_processes)\u001b[0m\n\u001b[1;32m     98\u001b[0m     \"\"\"\n\u001b[1;32m     99\u001b[0m     \u001b[0;32mif\u001b[0m \u001b[0mlen\u001b[0m\u001b[0;34m(\u001b[0m\u001b[0mvalues\u001b[0m\u001b[0;34m)\u001b[0m \u001b[0;34m==\u001b[0m \u001b[0;36m1\u001b[0m\u001b[0;34m:\u001b[0m\u001b[0;34m\u001b[0m\u001b[0;34m\u001b[0m\u001b[0m\n\u001b[0;32m--> 100\u001b[0;31m         \u001b[0;32mreturn\u001b[0m \u001b[0;34m[\u001b[0m\u001b[0mtask\u001b[0m\u001b[0;34m(\u001b[0m\u001b[0mvalues\u001b[0m\u001b[0;34m[\u001b[0m\u001b[0;36m0\u001b[0m\u001b[0;34m]\u001b[0m\u001b[0;34m,\u001b[0m \u001b[0;34m*\u001b[0m\u001b[0mtask_args\u001b[0m\u001b[0;34m,\u001b[0m \u001b[0;34m**\u001b[0m\u001b[0mtask_kwargs\u001b[0m\u001b[0;34m)\u001b[0m\u001b[0;34m]\u001b[0m\u001b[0;34m\u001b[0m\u001b[0;34m\u001b[0m\u001b[0m\n\u001b[0m\u001b[1;32m    101\u001b[0m \u001b[0;34m\u001b[0m\u001b[0m\n\u001b[1;32m    102\u001b[0m     \u001b[0mPublisher\u001b[0m\u001b[0;34m(\u001b[0m\u001b[0;34m)\u001b[0m\u001b[0;34m.\u001b[0m\u001b[0mpublish\u001b[0m\u001b[0;34m(\u001b[0m\u001b[0;34m\"terra.parallel.start\"\u001b[0m\u001b[0;34m,\u001b[0m \u001b[0mlen\u001b[0m\u001b[0;34m(\u001b[0m\u001b[0mvalues\u001b[0m\u001b[0;34m)\u001b[0m\u001b[0;34m)\u001b[0m\u001b[0;34m\u001b[0m\u001b[0;34m\u001b[0m\u001b[0m\n",
      "\u001b[0;32m/usr/local/lib/python3.6/dist-packages/qiskit/compiler/transpile.py\u001b[0m in \u001b[0;36m_transpile_circuit\u001b[0;34m(circuit_config_tuple)\u001b[0m\n\u001b[1;32m    219\u001b[0m     \u001b[0mcircuit\u001b[0m\u001b[0;34m,\u001b[0m \u001b[0mtranspile_config\u001b[0m \u001b[0;34m=\u001b[0m \u001b[0mcircuit_config_tuple\u001b[0m\u001b[0;34m\u001b[0m\u001b[0;34m\u001b[0m\u001b[0m\n\u001b[1;32m    220\u001b[0m \u001b[0;34m\u001b[0m\u001b[0m\n\u001b[0;32m--> 221\u001b[0;31m     \u001b[0;32mreturn\u001b[0m \u001b[0mtranspile_circuit\u001b[0m\u001b[0;34m(\u001b[0m\u001b[0mcircuit\u001b[0m\u001b[0;34m,\u001b[0m \u001b[0mtranspile_config\u001b[0m\u001b[0;34m)\u001b[0m\u001b[0;34m\u001b[0m\u001b[0;34m\u001b[0m\u001b[0m\n\u001b[0m\u001b[1;32m    222\u001b[0m \u001b[0;34m\u001b[0m\u001b[0m\n\u001b[1;32m    223\u001b[0m \u001b[0;34m\u001b[0m\u001b[0m\n",
      "\u001b[0;32m/usr/local/lib/python3.6/dist-packages/qiskit/transpiler/transpile_circuit.py\u001b[0m in \u001b[0;36mtranspile_circuit\u001b[0;34m(circuit, transpile_config)\u001b[0m\n\u001b[1;32m     60\u001b[0m         \u001b[0mpass_manager\u001b[0m\u001b[0;34m.\u001b[0m\u001b[0mcallback\u001b[0m \u001b[0;34m=\u001b[0m \u001b[0mtranspile_config\u001b[0m\u001b[0;34m.\u001b[0m\u001b[0mcallback\u001b[0m\u001b[0;34m\u001b[0m\u001b[0;34m\u001b[0m\u001b[0m\n\u001b[1;32m     61\u001b[0m \u001b[0;34m\u001b[0m\u001b[0m\n\u001b[0;32m---> 62\u001b[0;31m     \u001b[0mout_circuit\u001b[0m \u001b[0;34m=\u001b[0m \u001b[0mpass_manager\u001b[0m\u001b[0;34m.\u001b[0m\u001b[0mrun\u001b[0m\u001b[0;34m(\u001b[0m\u001b[0mcircuit\u001b[0m\u001b[0;34m)\u001b[0m\u001b[0;34m\u001b[0m\u001b[0;34m\u001b[0m\u001b[0m\n\u001b[0m\u001b[1;32m     63\u001b[0m     \u001b[0mout_circuit\u001b[0m\u001b[0;34m.\u001b[0m\u001b[0mname\u001b[0m \u001b[0;34m=\u001b[0m \u001b[0mtranspile_config\u001b[0m\u001b[0;34m.\u001b[0m\u001b[0moutput_name\u001b[0m\u001b[0;34m\u001b[0m\u001b[0;34m\u001b[0m\u001b[0m\n\u001b[1;32m     64\u001b[0m \u001b[0;34m\u001b[0m\u001b[0m\n",
      "\u001b[0;32m/usr/local/lib/python3.6/dist-packages/qiskit/transpiler/passmanager.py\u001b[0m in \u001b[0;36mrun\u001b[0;34m(***failed resolving arguments***)\u001b[0m\n\u001b[1;32m    170\u001b[0m         \u001b[0;32mfor\u001b[0m \u001b[0mpassset\u001b[0m \u001b[0;32min\u001b[0m \u001b[0mself\u001b[0m\u001b[0;34m.\u001b[0m\u001b[0mworking_list\u001b[0m\u001b[0;34m:\u001b[0m\u001b[0;34m\u001b[0m\u001b[0;34m\u001b[0m\u001b[0m\n\u001b[1;32m    171\u001b[0m             \u001b[0;32mfor\u001b[0m \u001b[0mpass_\u001b[0m \u001b[0;32min\u001b[0m \u001b[0mpassset\u001b[0m\u001b[0;34m:\u001b[0m\u001b[0;34m\u001b[0m\u001b[0;34m\u001b[0m\u001b[0m\n\u001b[0;32m--> 172\u001b[0;31m                 \u001b[0mdag\u001b[0m \u001b[0;34m=\u001b[0m \u001b[0mself\u001b[0m\u001b[0;34m.\u001b[0m\u001b[0m_do_pass\u001b[0m\u001b[0;34m(\u001b[0m\u001b[0mpass_\u001b[0m\u001b[0;34m,\u001b[0m \u001b[0mdag\u001b[0m\u001b[0;34m,\u001b[0m \u001b[0mpassset\u001b[0m\u001b[0;34m.\u001b[0m\u001b[0moptions\u001b[0m\u001b[0;34m)\u001b[0m\u001b[0;34m\u001b[0m\u001b[0;34m\u001b[0m\u001b[0m\n\u001b[0m\u001b[1;32m    173\u001b[0m \u001b[0;34m\u001b[0m\u001b[0m\n\u001b[1;32m    174\u001b[0m         \u001b[0mcircuit\u001b[0m \u001b[0;34m=\u001b[0m \u001b[0mdag_to_circuit\u001b[0m\u001b[0;34m(\u001b[0m\u001b[0mdag\u001b[0m\u001b[0;34m)\u001b[0m\u001b[0;34m\u001b[0m\u001b[0;34m\u001b[0m\u001b[0m\n",
      "\u001b[0;32m/usr/local/lib/python3.6/dist-packages/qiskit/transpiler/passmanager.py\u001b[0m in \u001b[0;36m_do_pass\u001b[0;34m(self, pass_, dag, options)\u001b[0m\n\u001b[1;32m    221\u001b[0m         \u001b[0;31m# Run the pass itself, if not already run\u001b[0m\u001b[0;34m\u001b[0m\u001b[0;34m\u001b[0m\u001b[0;34m\u001b[0m\u001b[0m\n\u001b[1;32m    222\u001b[0m         \u001b[0;32mif\u001b[0m \u001b[0mpass_\u001b[0m \u001b[0;32mnot\u001b[0m \u001b[0;32min\u001b[0m \u001b[0mself\u001b[0m\u001b[0;34m.\u001b[0m\u001b[0mvalid_passes\u001b[0m\u001b[0;34m:\u001b[0m\u001b[0;34m\u001b[0m\u001b[0;34m\u001b[0m\u001b[0m\n\u001b[0;32m--> 223\u001b[0;31m             \u001b[0mdag\u001b[0m \u001b[0;34m=\u001b[0m \u001b[0mself\u001b[0m\u001b[0;34m.\u001b[0m\u001b[0m_run_this_pass\u001b[0m\u001b[0;34m(\u001b[0m\u001b[0mpass_\u001b[0m\u001b[0;34m,\u001b[0m \u001b[0mdag\u001b[0m\u001b[0;34m)\u001b[0m\u001b[0;34m\u001b[0m\u001b[0;34m\u001b[0m\u001b[0m\n\u001b[0m\u001b[1;32m    224\u001b[0m \u001b[0;34m\u001b[0m\u001b[0m\n\u001b[1;32m    225\u001b[0m             \u001b[0;31m# update the valid_passes property\u001b[0m\u001b[0;34m\u001b[0m\u001b[0;34m\u001b[0m\u001b[0;34m\u001b[0m\u001b[0m\n",
      "\u001b[0;32m/usr/local/lib/python3.6/dist-packages/qiskit/transpiler/passmanager.py\u001b[0m in \u001b[0;36m_run_this_pass\u001b[0;34m(self, pass_, dag)\u001b[0m\n\u001b[1;32m    233\u001b[0m             \u001b[0;31m# Measure time if we have a callback or logging set\u001b[0m\u001b[0;34m\u001b[0m\u001b[0;34m\u001b[0m\u001b[0;34m\u001b[0m\u001b[0m\n\u001b[1;32m    234\u001b[0m             \u001b[0mstart_time\u001b[0m \u001b[0;34m=\u001b[0m \u001b[0mtime\u001b[0m\u001b[0;34m(\u001b[0m\u001b[0;34m)\u001b[0m\u001b[0;34m\u001b[0m\u001b[0;34m\u001b[0m\u001b[0m\n\u001b[0;32m--> 235\u001b[0;31m             \u001b[0mnew_dag\u001b[0m \u001b[0;34m=\u001b[0m \u001b[0mpass_\u001b[0m\u001b[0;34m.\u001b[0m\u001b[0mrun\u001b[0m\u001b[0;34m(\u001b[0m\u001b[0mdag\u001b[0m\u001b[0;34m)\u001b[0m\u001b[0;34m\u001b[0m\u001b[0;34m\u001b[0m\u001b[0m\n\u001b[0m\u001b[1;32m    236\u001b[0m             \u001b[0mend_time\u001b[0m \u001b[0;34m=\u001b[0m \u001b[0mtime\u001b[0m\u001b[0;34m(\u001b[0m\u001b[0;34m)\u001b[0m\u001b[0;34m\u001b[0m\u001b[0;34m\u001b[0m\u001b[0m\n\u001b[1;32m    237\u001b[0m             \u001b[0mrun_time\u001b[0m \u001b[0;34m=\u001b[0m \u001b[0mend_time\u001b[0m \u001b[0;34m-\u001b[0m \u001b[0mstart_time\u001b[0m\u001b[0;34m\u001b[0m\u001b[0;34m\u001b[0m\u001b[0m\n",
      "\u001b[0;32m/usr/local/lib/python3.6/dist-packages/qiskit/transpiler/passes/unroller.py\u001b[0m in \u001b[0;36mrun\u001b[0;34m(self, dag)\u001b[0m\n\u001b[1;32m     85\u001b[0m                 \u001b[0mdecomposition\u001b[0m\u001b[0;34m.\u001b[0m\u001b[0mapply_operation_back\u001b[0m\u001b[0;34m(\u001b[0m\u001b[0;34m*\u001b[0m\u001b[0minst\u001b[0m\u001b[0;34m)\u001b[0m\u001b[0;34m\u001b[0m\u001b[0;34m\u001b[0m\u001b[0m\n\u001b[1;32m     86\u001b[0m \u001b[0;34m\u001b[0m\u001b[0m\n\u001b[0;32m---> 87\u001b[0;31m             \u001b[0munrolled_dag\u001b[0m \u001b[0;34m=\u001b[0m \u001b[0mself\u001b[0m\u001b[0;34m.\u001b[0m\u001b[0mrun\u001b[0m\u001b[0;34m(\u001b[0m\u001b[0mdecomposition\u001b[0m\u001b[0;34m)\u001b[0m  \u001b[0;31m# recursively unroll ops\u001b[0m\u001b[0;34m\u001b[0m\u001b[0;34m\u001b[0m\u001b[0m\n\u001b[0m\u001b[1;32m     88\u001b[0m             \u001b[0mdag\u001b[0m\u001b[0;34m.\u001b[0m\u001b[0msubstitute_node_with_dag\u001b[0m\u001b[0;34m(\u001b[0m\u001b[0mnode\u001b[0m\u001b[0;34m,\u001b[0m \u001b[0munrolled_dag\u001b[0m\u001b[0;34m)\u001b[0m\u001b[0;34m\u001b[0m\u001b[0;34m\u001b[0m\u001b[0m\n\u001b[1;32m     89\u001b[0m         \u001b[0;32mreturn\u001b[0m \u001b[0mdag\u001b[0m\u001b[0;34m\u001b[0m\u001b[0;34m\u001b[0m\u001b[0m\n",
      "\u001b[0;32m/usr/local/lib/python3.6/dist-packages/qiskit/transpiler/passes/unroller.py\u001b[0m in \u001b[0;36mrun\u001b[0;34m(self, dag)\u001b[0m\n\u001b[1;32m     71\u001b[0m                 raise QiskitError(\"Cannot unroll the circuit to the given basis, %s. \"\n\u001b[1;32m     72\u001b[0m                                   \u001b[0;34m\"No rule to expand instruction %s.\"\u001b[0m \u001b[0;34m%\u001b[0m\u001b[0;34m\u001b[0m\u001b[0;34m\u001b[0m\u001b[0m\n\u001b[0;32m---> 73\u001b[0;31m                                   (str(self.basis), node.op.name))\n\u001b[0m\u001b[1;32m     74\u001b[0m \u001b[0;34m\u001b[0m\u001b[0m\n\u001b[1;32m     75\u001b[0m             \u001b[0;31m# hacky way to build a dag on the same register as the rule is defined\u001b[0m\u001b[0;34m\u001b[0m\u001b[0;34m\u001b[0m\u001b[0;34m\u001b[0m\u001b[0m\n",
      "\u001b[0;31mQiskitError\u001b[0m: \"Cannot unroll the circuit to the given basis, ['cz', 'rx_pi/2', 'rz']. No rule to expand instruction u3.\""
     ]
    }
   ],
   "source": [
    "#transpile the circuit with respect to optimization level 3\n",
    "#it fails because most passes and rules are with respect to u1,u2,u3 just optimization level 1,2 and to work\n",
    "transpiledCircuit = transpile(qc, backend=backend, optimization_level=3)\n"
   ]
  }
 ],
 "metadata": {
  "kernelspec": {
   "display_name": "Python 3",
   "language": "python",
   "name": "python3"
  },
  "language_info": {
   "codemirror_mode": {
    "name": "ipython",
    "version": 3
   },
   "file_extension": ".py",
   "mimetype": "text/x-python",
   "name": "python",
   "nbconvert_exporter": "python",
   "pygments_lexer": "ipython3",
   "version": "3.6.8"
  }
 },
 "nbformat": 4,
 "nbformat_minor": 2
}
